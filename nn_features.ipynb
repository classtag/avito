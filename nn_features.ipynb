{
 "cells": [
  {
   "cell_type": "code",
   "execution_count": 1,
   "metadata": {},
   "outputs": [],
   "source": [
    "cmd = '/usr/local/bin/vw'"
   ]
  },
  {
   "cell_type": "code",
   "execution_count": 15,
   "metadata": {},
   "outputs": [],
   "source": [
    "# coding: utf-8\n",
    "\"\"\"\n",
    "train lightgbm model\n",
    "\"\"\"\n",
    "import warnings\n",
    "warnings.filterwarnings('ignore')\n",
    "\n",
    "import numpy as np\n",
    "import pandas as pd\n",
    "\n",
    "import gc\n",
    "import pickle\n",
    "from datetime import datetime\n",
    "from scipy.sparse import hstack, csr_matrix\n",
    "from sklearn.preprocessing import StandardScaler, Imputer\n",
    "\n",
    "root = '/kaggle/competitions/avito-demand-prediction/'\n",
    "\n",
    "def dump_matrix(matrix, name):\n",
    "    pickle.dump(matrix, open(root + 'features/{}.pkl'.format(name), 'wb'), protocol=pickle.HIGHEST_PROTOCOL)\n",
    "def load_matrix(name):\n",
    "    return pickle.load(open(root + 'features/{}.pkl'.format(name), 'rb'))"
   ]
  },
  {
   "cell_type": "code",
   "execution_count": 4,
   "metadata": {},
   "outputs": [],
   "source": [
    "tr_index = load_matrix('tr_index')\n",
    "te_index = load_matrix('te_index')"
   ]
  },
  {
   "cell_type": "code",
   "execution_count": 24,
   "metadata": {},
   "outputs": [],
   "source": [
    "daset_num_cols = load_matrix('daset_num_cols')"
   ]
  },
  {
   "cell_type": "code",
   "execution_count": 26,
   "metadata": {},
   "outputs": [
    {
     "data": {
      "text/html": [
       "<div>\n",
       "<style scoped>\n",
       "    .dataframe tbody tr th:only-of-type {\n",
       "        vertical-align: middle;\n",
       "    }\n",
       "\n",
       "    .dataframe tbody tr th {\n",
       "        vertical-align: top;\n",
       "    }\n",
       "\n",
       "    .dataframe thead th {\n",
       "        text-align: right;\n",
       "    }\n",
       "</style>\n",
       "<table border=\"1\" class=\"dataframe\">\n",
       "  <thead>\n",
       "    <tr style=\"text-align: right;\">\n",
       "      <th></th>\n",
       "      <th>price</th>\n",
       "      <th>image_top_1</th>\n",
       "      <th>item_seq_number</th>\n",
       "      <th>n_missing_features</th>\n",
       "      <th>avg_days_up_user</th>\n",
       "      <th>avg_times_up_user</th>\n",
       "      <th>n_user_items</th>\n",
       "      <th>region_factor</th>\n",
       "      <th>parent_category_name_factor</th>\n",
       "      <th>user_type_factor</th>\n",
       "      <th>...</th>\n",
       "      <th>r_desc_wds</th>\n",
       "      <th>r_desc_dig</th>\n",
       "      <th>r_desc_cap</th>\n",
       "      <th>r_desc_spa</th>\n",
       "      <th>r_desc_pun</th>\n",
       "      <th>r_desc_row</th>\n",
       "      <th>r_desc_emo</th>\n",
       "      <th>r_titl_des</th>\n",
       "      <th>n_char_params</th>\n",
       "      <th>n_text_wds</th>\n",
       "    </tr>\n",
       "    <tr>\n",
       "      <th>item_id</th>\n",
       "      <th></th>\n",
       "      <th></th>\n",
       "      <th></th>\n",
       "      <th></th>\n",
       "      <th></th>\n",
       "      <th></th>\n",
       "      <th></th>\n",
       "      <th></th>\n",
       "      <th></th>\n",
       "      <th></th>\n",
       "      <th></th>\n",
       "      <th></th>\n",
       "      <th></th>\n",
       "      <th></th>\n",
       "      <th></th>\n",
       "      <th></th>\n",
       "      <th></th>\n",
       "      <th></th>\n",
       "      <th></th>\n",
       "      <th></th>\n",
       "      <th></th>\n",
       "    </tr>\n",
       "  </thead>\n",
       "  <tbody>\n",
       "    <tr>\n",
       "      <th>3b896605f03c</th>\n",
       "      <td>6.217606</td>\n",
       "      <td>1008</td>\n",
       "      <td>12</td>\n",
       "      <td>0</td>\n",
       "      <td>6.5</td>\n",
       "      <td>1.5</td>\n",
       "      <td>5.0</td>\n",
       "      <td>99914</td>\n",
       "      <td>914200</td>\n",
       "      <td>1433965</td>\n",
       "      <td>...</td>\n",
       "      <td>0.142857</td>\n",
       "      <td>0.000000</td>\n",
       "      <td>0.000000</td>\n",
       "      <td>0.107143</td>\n",
       "      <td>0.035714</td>\n",
       "      <td>0.000000</td>\n",
       "      <td>0.0</td>\n",
       "      <td>0.607143</td>\n",
       "      <td>48</td>\n",
       "      <td>10</td>\n",
       "    </tr>\n",
       "    <tr>\n",
       "      <th>c81c34d3aac5</th>\n",
       "      <td>4.616121</td>\n",
       "      <td>2909</td>\n",
       "      <td>5</td>\n",
       "      <td>1</td>\n",
       "      <td>15.0</td>\n",
       "      <td>2.0</td>\n",
       "      <td>2.0</td>\n",
       "      <td>58619</td>\n",
       "      <td>231290</td>\n",
       "      <td>1433965</td>\n",
       "      <td>...</td>\n",
       "      <td>0.133333</td>\n",
       "      <td>0.000000</td>\n",
       "      <td>0.000000</td>\n",
       "      <td>0.066667</td>\n",
       "      <td>0.066667</td>\n",
       "      <td>0.000000</td>\n",
       "      <td>0.0</td>\n",
       "      <td>1.266667</td>\n",
       "      <td>36</td>\n",
       "      <td>7</td>\n",
       "    </tr>\n",
       "    <tr>\n",
       "      <th>a8ab6225dd06</th>\n",
       "      <td>7.314887</td>\n",
       "      <td>527</td>\n",
       "      <td>32</td>\n",
       "      <td>1</td>\n",
       "      <td>NaN</td>\n",
       "      <td>NaN</td>\n",
       "      <td>NaN</td>\n",
       "      <td>85264</td>\n",
       "      <td>914200</td>\n",
       "      <td>1433965</td>\n",
       "      <td>...</td>\n",
       "      <td>NaN</td>\n",
       "      <td>NaN</td>\n",
       "      <td>NaN</td>\n",
       "      <td>NaN</td>\n",
       "      <td>NaN</td>\n",
       "      <td>NaN</td>\n",
       "      <td>NaN</td>\n",
       "      <td>NaN</td>\n",
       "      <td>39</td>\n",
       "      <td>9</td>\n",
       "    </tr>\n",
       "    <tr>\n",
       "      <th>20bf5eea7fb5</th>\n",
       "      <td>5.861786</td>\n",
       "      <td>930</td>\n",
       "      <td>17</td>\n",
       "      <td>3</td>\n",
       "      <td>5.0</td>\n",
       "      <td>1.0</td>\n",
       "      <td>3.0</td>\n",
       "      <td>39932</td>\n",
       "      <td>72446</td>\n",
       "      <td>1433965</td>\n",
       "      <td>...</td>\n",
       "      <td>0.142857</td>\n",
       "      <td>0.053571</td>\n",
       "      <td>0.000000</td>\n",
       "      <td>0.151786</td>\n",
       "      <td>0.026786</td>\n",
       "      <td>0.017857</td>\n",
       "      <td>0.0</td>\n",
       "      <td>0.214286</td>\n",
       "      <td>32</td>\n",
       "      <td>16</td>\n",
       "    </tr>\n",
       "    <tr>\n",
       "      <th>e1cf6b9d5789</th>\n",
       "      <td>7.314887</td>\n",
       "      <td>657</td>\n",
       "      <td>7</td>\n",
       "      <td>1</td>\n",
       "      <td>15.0</td>\n",
       "      <td>2.0</td>\n",
       "      <td>6.0</td>\n",
       "      <td>43712</td>\n",
       "      <td>914200</td>\n",
       "      <td>1433965</td>\n",
       "      <td>...</td>\n",
       "      <td>0.166667</td>\n",
       "      <td>0.100000</td>\n",
       "      <td>0.066667</td>\n",
       "      <td>0.150000</td>\n",
       "      <td>0.050000</td>\n",
       "      <td>0.000000</td>\n",
       "      <td>0.0</td>\n",
       "      <td>0.400000</td>\n",
       "      <td>32</td>\n",
       "      <td>15</td>\n",
       "    </tr>\n",
       "  </tbody>\n",
       "</table>\n",
       "<p>5 rows × 75 columns</p>\n",
       "</div>"
      ],
      "text/plain": [
       "                 price  image_top_1  item_seq_number  n_missing_features  \\\n",
       "item_id                                                                    \n",
       "3b896605f03c  6.217606         1008               12                   0   \n",
       "c81c34d3aac5  4.616121         2909                5                   1   \n",
       "a8ab6225dd06  7.314887          527               32                   1   \n",
       "20bf5eea7fb5  5.861786          930               17                   3   \n",
       "e1cf6b9d5789  7.314887          657                7                   1   \n",
       "\n",
       "              avg_days_up_user  avg_times_up_user  n_user_items  \\\n",
       "item_id                                                           \n",
       "3b896605f03c               6.5                1.5           5.0   \n",
       "c81c34d3aac5              15.0                2.0           2.0   \n",
       "a8ab6225dd06               NaN                NaN           NaN   \n",
       "20bf5eea7fb5               5.0                1.0           3.0   \n",
       "e1cf6b9d5789              15.0                2.0           6.0   \n",
       "\n",
       "              region_factor  parent_category_name_factor  user_type_factor  \\\n",
       "item_id                                                                      \n",
       "3b896605f03c          99914                       914200           1433965   \n",
       "c81c34d3aac5          58619                       231290           1433965   \n",
       "a8ab6225dd06          85264                       914200           1433965   \n",
       "20bf5eea7fb5          39932                        72446           1433965   \n",
       "e1cf6b9d5789          43712                       914200           1433965   \n",
       "\n",
       "                 ...      r_desc_wds  r_desc_dig  r_desc_cap  r_desc_spa  \\\n",
       "item_id          ...                                                       \n",
       "3b896605f03c     ...        0.142857    0.000000    0.000000    0.107143   \n",
       "c81c34d3aac5     ...        0.133333    0.000000    0.000000    0.066667   \n",
       "a8ab6225dd06     ...             NaN         NaN         NaN         NaN   \n",
       "20bf5eea7fb5     ...        0.142857    0.053571    0.000000    0.151786   \n",
       "e1cf6b9d5789     ...        0.166667    0.100000    0.066667    0.150000   \n",
       "\n",
       "              r_desc_pun  r_desc_row  r_desc_emo  r_titl_des  n_char_params  \\\n",
       "item_id                                                                       \n",
       "3b896605f03c    0.035714    0.000000         0.0    0.607143             48   \n",
       "c81c34d3aac5    0.066667    0.000000         0.0    1.266667             36   \n",
       "a8ab6225dd06         NaN         NaN         NaN         NaN             39   \n",
       "20bf5eea7fb5    0.026786    0.017857         0.0    0.214286             32   \n",
       "e1cf6b9d5789    0.050000    0.000000         0.0    0.400000             32   \n",
       "\n",
       "              n_text_wds  \n",
       "item_id                   \n",
       "3b896605f03c          10  \n",
       "c81c34d3aac5           7  \n",
       "a8ab6225dd06           9  \n",
       "20bf5eea7fb5          16  \n",
       "e1cf6b9d5789          15  \n",
       "\n",
       "[5 rows x 75 columns]"
      ]
     },
     "execution_count": 26,
     "metadata": {},
     "output_type": "execute_result"
    }
   ],
   "source": [
    "daset_num_cols.head()"
   ]
  },
  {
   "cell_type": "code",
   "execution_count": 27,
   "metadata": {},
   "outputs": [],
   "source": [
    "daset_num_cols.replace(np.inf, np.NAN, inplace=True)"
   ]
  },
  {
   "cell_type": "code",
   "execution_count": 38,
   "metadata": {},
   "outputs": [],
   "source": [
    "tr_c2v_matrix = load_matrix('tr_c2v_matrix')\n",
    "te_c2v_matrix = load_matrix('te_c2v_matrix')"
   ]
  },
  {
   "cell_type": "code",
   "execution_count": 39,
   "metadata": {},
   "outputs": [],
   "source": [
    "tr_list = [daset_num_cols.loc[tr_index].values, tr_c2v_matrix]\n",
    "X = hstack(tr_list).tocsr()"
   ]
  },
  {
   "cell_type": "code",
   "execution_count": 37,
   "metadata": {},
   "outputs": [],
   "source": [
    "imputer = Imputer(strategy='median')\n",
    "scaler = StandardScaler(with_mean=False)"
   ]
  },
  {
   "cell_type": "code",
   "execution_count": 40,
   "metadata": {},
   "outputs": [],
   "source": [
    "imputer.fit(X)\n",
    "X = imputer.transform(X)\n",
    "scaler.fit(X)\n",
    "X = scaler.transform(X)"
   ]
  },
  {
   "cell_type": "code",
   "execution_count": 41,
   "metadata": {},
   "outputs": [
    {
     "data": {
      "text/plain": [
       "103"
      ]
     },
     "execution_count": 41,
     "metadata": {},
     "output_type": "execute_result"
    }
   ],
   "source": [
    "dump_matrix(X, 'NN_X')\n",
    "del tr_list, tr_c2v_matrix\n",
    "gc.collect()"
   ]
  },
  {
   "cell_type": "code",
   "execution_count": 42,
   "metadata": {},
   "outputs": [],
   "source": [
    "te_list = [daset_num_cols.loc[te_index].values, te_c2v_matrix]\n",
    "X_te = hstack(te_list).tocsr()"
   ]
  },
  {
   "cell_type": "code",
   "execution_count": 43,
   "metadata": {},
   "outputs": [],
   "source": [
    "X_te = imputer.transform(X_te)\n",
    "X_te = scaler.transform(X_te)"
   ]
  },
  {
   "cell_type": "code",
   "execution_count": 44,
   "metadata": {},
   "outputs": [
    {
     "data": {
      "text/plain": [
       "7"
      ]
     },
     "execution_count": 44,
     "metadata": {},
     "output_type": "execute_result"
    }
   ],
   "source": [
    "dump_matrix(X_te, 'NN_X_te')\n",
    "del te_list, te_c2v_matrix\n",
    "gc.collect()"
   ]
  },
  {
   "cell_type": "code",
   "execution_count": 45,
   "metadata": {},
   "outputs": [
    {
     "data": {
      "text/html": [
       "<div>\n",
       "<style scoped>\n",
       "    .dataframe tbody tr th:only-of-type {\n",
       "        vertical-align: middle;\n",
       "    }\n",
       "\n",
       "    .dataframe tbody tr th {\n",
       "        vertical-align: top;\n",
       "    }\n",
       "\n",
       "    .dataframe thead th {\n",
       "        text-align: right;\n",
       "    }\n",
       "</style>\n",
       "<table border=\"1\" class=\"dataframe\">\n",
       "  <thead>\n",
       "    <tr style=\"text-align: right;\">\n",
       "      <th></th>\n",
       "      <th>image_top_1_cluster</th>\n",
       "      <th>param_1_cluster</th>\n",
       "      <th>category_name_cluster</th>\n",
       "      <th>city_cluster</th>\n",
       "      <th>day_of_week_cluster</th>\n",
       "    </tr>\n",
       "    <tr>\n",
       "      <th>item_id</th>\n",
       "      <th></th>\n",
       "      <th></th>\n",
       "      <th></th>\n",
       "      <th></th>\n",
       "      <th></th>\n",
       "    </tr>\n",
       "  </thead>\n",
       "  <tbody>\n",
       "    <tr>\n",
       "      <th>3b896605f03c</th>\n",
       "      <td>1</td>\n",
       "      <td>1</td>\n",
       "      <td>1</td>\n",
       "      <td>1</td>\n",
       "      <td>1</td>\n",
       "    </tr>\n",
       "    <tr>\n",
       "      <th>c81c34d3aac5</th>\n",
       "      <td>1</td>\n",
       "      <td>1</td>\n",
       "      <td>1</td>\n",
       "      <td>1</td>\n",
       "      <td>1</td>\n",
       "    </tr>\n",
       "    <tr>\n",
       "      <th>a8ab6225dd06</th>\n",
       "      <td>1</td>\n",
       "      <td>1</td>\n",
       "      <td>1</td>\n",
       "      <td>1</td>\n",
       "      <td>1</td>\n",
       "    </tr>\n",
       "    <tr>\n",
       "      <th>20bf5eea7fb5</th>\n",
       "      <td>1</td>\n",
       "      <td>1</td>\n",
       "      <td>1</td>\n",
       "      <td>1</td>\n",
       "      <td>1</td>\n",
       "    </tr>\n",
       "    <tr>\n",
       "      <th>e1cf6b9d5789</th>\n",
       "      <td>1</td>\n",
       "      <td>1</td>\n",
       "      <td>1</td>\n",
       "      <td>1</td>\n",
       "      <td>1</td>\n",
       "    </tr>\n",
       "  </tbody>\n",
       "</table>\n",
       "</div>"
      ],
      "text/plain": [
       "              image_top_1_cluster  param_1_cluster  category_name_cluster  \\\n",
       "item_id                                                                     \n",
       "3b896605f03c                    1                1                      1   \n",
       "c81c34d3aac5                    1                1                      1   \n",
       "a8ab6225dd06                    1                1                      1   \n",
       "20bf5eea7fb5                    1                1                      1   \n",
       "e1cf6b9d5789                    1                1                      1   \n",
       "\n",
       "              city_cluster  day_of_week_cluster  \n",
       "item_id                                          \n",
       "3b896605f03c             1                    1  \n",
       "c81c34d3aac5             1                    1  \n",
       "a8ab6225dd06             1                    1  \n",
       "20bf5eea7fb5             1                    1  \n",
       "e1cf6b9d5789             1                    1  "
      ]
     },
     "execution_count": 45,
     "metadata": {},
     "output_type": "execute_result"
    }
   ],
   "source": [
    "daset_num_cols.filter(regex='_cluster').head()"
   ]
  },
  {
   "cell_type": "code",
   "execution_count": 50,
   "metadata": {},
   "outputs": [
    {
     "data": {
      "text/plain": [
       "array([1])"
      ]
     },
     "execution_count": 50,
     "metadata": {},
     "output_type": "execute_result"
    }
   ],
   "source": [
    "daset_num_cols['day_of_week_cluster'].unique()"
   ]
  },
  {
   "cell_type": "code",
   "execution_count": null,
   "metadata": {},
   "outputs": [],
   "source": []
  }
 ],
 "metadata": {
  "kernelspec": {
   "display_name": "Environment (conda_pytorch_p36)",
   "language": "python",
   "name": "conda_pytorch_p36"
  },
  "language_info": {
   "codemirror_mode": {
    "name": "ipython",
    "version": 3
   },
   "file_extension": ".py",
   "mimetype": "text/x-python",
   "name": "python",
   "nbconvert_exporter": "python",
   "pygments_lexer": "ipython3",
   "version": "3.6.5"
  }
 },
 "nbformat": 4,
 "nbformat_minor": 2
}
