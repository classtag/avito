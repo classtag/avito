{
 "cells": [
  {
   "cell_type": "code",
   "execution_count": 1,
   "metadata": {},
   "outputs": [],
   "source": [
    "import pickle"
   ]
  },
  {
   "cell_type": "code",
   "execution_count": 2,
   "metadata": {},
   "outputs": [],
   "source": [
    "root = '/kaggle/competitions/avito-demand-prediction/'\n",
    "\n",
    "def load_matrix(name):\n",
    "    return pickle.load(open(root + 'results/{}.pkl'.format(name), 'rb'))"
   ]
  },
  {
   "cell_type": "code",
   "execution_count": 11,
   "metadata": {},
   "outputs": [],
   "source": [
    "feature_importance = load_matrix('lgb_{}_{}_feature_importance'.format(0,1))"
   ]
  },
  {
   "cell_type": "code",
   "execution_count": 12,
   "metadata": {
    "scrolled": false
   },
   "outputs": [
    {
     "name": "stdout",
     "output_type": "stream",
     "text": [
      "n_region_target_avg\n",
      "n_image_top_1_target_avg\n",
      "n_category_name_target_avg\n",
      "n_user_type_target_avg\n",
      "n_parent_category_name_target_avg\n",
      "n_day_of_week_target_avg\n",
      "image_top_1_cluster\n",
      "param_1_cluster\n",
      "category_name_cluster\n",
      "city_cluster\n",
      "day_of_week_cluster\n",
      "n_titl_emo\n",
      "r_titl_emo\n"
     ]
    }
   ],
   "source": [
    "leak_feature_names = []\n",
    "good_feature_names = []\n",
    "for x in feature_importance:\n",
    "    if x[1]==0.0:\n",
    "        if 'p2v_' not in x[0] and 't2v_' not in x[0]:\n",
    "            print(x[0])\n",
    "        leak_feature_names.append(x[0])\n",
    "    else:\n",
    "        good_feature_names.append(x[0])"
   ]
  },
  {
   "cell_type": "code",
   "execution_count": 13,
   "metadata": {},
   "outputs": [
    {
     "data": {
      "text/plain": [
       "(9525, 50560)"
      ]
     },
     "execution_count": 13,
     "metadata": {},
     "output_type": "execute_result"
    }
   ],
   "source": [
    "len(good_feature_names), len(leak_feature_names)"
   ]
  },
  {
   "cell_type": "code",
   "execution_count": 14,
   "metadata": {},
   "outputs": [
    {
     "data": {
      "text/plain": [
       "['category_name_upv',\n",
       " 'price',\n",
       " 'n_category_name_price_avg',\n",
       " 'n_image_top_1_price_avg',\n",
       " 'n_user_items',\n",
       " 'parent_category_name_upv',\n",
       " 'avg_days_up_user',\n",
       " 'n_parent_category_name_price_avg',\n",
       " 'p2v_продам',\n",
       " 'image_top_1',\n",
       " 't2v_одежда',\n",
       " 'avg_times_up_user',\n",
       " 'n_missing_features',\n",
       " 'item_seq_number',\n",
       " 'n_char_params',\n",
       " 'category_name_uv',\n",
       " 'user_type_factor',\n",
       " 't2v_состоянии',\n",
       " 't2v_обувь',\n",
       " 't2v_отдам',\n",
       " 'p2v_сдам на',\n",
       " 't2v_одежда обувь',\n",
       " 'c2v_8',\n",
       " 'city_uv',\n",
       " 'r_desc_dig',\n",
       " 't2v_предложение услуг',\n",
       " 'c2v_5',\n",
       " 'image_top_1_uv',\n",
       " 'p2v_длительныи',\n",
       " 't2v_транспорт',\n",
       " 'c2v_1',\n",
       " 't2v_аксессуары',\n",
       " 'r_desc_pun',\n",
       " 't2v_велосипед',\n",
       " 'r_titl_spa',\n",
       " 'c2v_9',\n",
       " 'n_desc_len',\n",
       " 'n_text_wds',\n",
       " 'r_desc_cap',\n",
       " 't2v_велосипеды',\n",
       " 'parent_category_name_factor',\n",
       " 'c2v_7',\n",
       " 't2v_ходунки',\n",
       " 'r_desc_spa',\n",
       " 'r_desc_emo',\n",
       " 'p2v_пробегом ваз',\n",
       " 't2v_предложение услуг транспорт',\n",
       " 'c2v_0',\n",
       " 'r_titl_des',\n",
       " 'n_desc_dig',\n",
       " 'c2v_3',\n",
       " 'n_titl_len',\n",
       " 'r_desc_wds',\n",
       " 'c2v_4',\n",
       " 'c2v_6',\n",
       " 'item_seq_number_uv',\n",
       " 't2v_состояние',\n",
       " 'r_titl_wds',\n",
       " 't2v_бу',\n",
       " 'n_desc_cap',\n",
       " 'c2v_2',\n",
       " 'r_titl_dig',\n",
       " 't2v_продам',\n",
       " 'p2v_iphone',\n",
       " 't2v_коляска',\n",
       " 'r_titl_cap',\n",
       " 't2v_наращивание',\n",
       " 'n_desc_row',\n",
       " 't2v_работает',\n",
       " 'n_desc_spa',\n",
       " 'r_desc_row',\n",
       " 'city_upv',\n",
       " 'n_region_price_avg',\n",
       " 't2v_диван',\n",
       " 'p2v_на',\n",
       " 'n_user_type_price_avg',\n",
       " 'region_upv',\n",
       " 'n_desc_pun',\n",
       " 'n_desc_wds',\n",
       " 't2v_бытовая техника кухни',\n",
       " 'image_top_1_upv',\n",
       " 't2v_прогулочная',\n",
       " 'parent_category_name_uv',\n",
       " 't2v_самовывоз',\n",
       " 'p2v_кресла исключение',\n",
       " 'p2v_пробегом',\n",
       " 'region_factor',\n",
       " 'r_titl_pun',\n",
       " 'p2v_кресла',\n",
       " 't2v_даром',\n",
       " 'p2v_для кухни плиты',\n",
       " 'p2v_телевизоры',\n",
       " 'n_titl_cap',\n",
       " 't2v_бытовая техника',\n",
       " 't2v_кроссовки',\n",
       " 'n_titl_dig',\n",
       " 't2v_резиновые',\n",
       " 'p2v_ваз',\n",
       " 't2v_срочно',\n",
       " 't2v_искусство']"
      ]
     },
     "execution_count": 14,
     "metadata": {},
     "output_type": "execute_result"
    }
   ],
   "source": [
    "good_feature_names[:100]"
   ]
  },
  {
   "cell_type": "code",
   "execution_count": null,
   "metadata": {},
   "outputs": [],
   "source": []
  }
 ],
 "metadata": {
  "kernelspec": {
   "display_name": "Environment (conda_pytorch_p36)",
   "language": "python",
   "name": "conda_pytorch_p36"
  },
  "language_info": {
   "codemirror_mode": {
    "name": "ipython",
    "version": 3
   },
   "file_extension": ".py",
   "mimetype": "text/x-python",
   "name": "python",
   "nbconvert_exporter": "python",
   "pygments_lexer": "ipython3",
   "version": "3.6.5"
  }
 },
 "nbformat": 4,
 "nbformat_minor": 2
}
