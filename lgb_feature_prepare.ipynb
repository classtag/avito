{
 "cells": [
  {
   "cell_type": "code",
   "execution_count": 1,
   "metadata": {},
   "outputs": [],
   "source": [
    "# coding: utf-8\n",
    "\"\"\"\n",
    "train lightgbm model\n",
    "\"\"\"\n",
    "import warnings\n",
    "warnings.filterwarnings('ignore')\n",
    "\n",
    "import numpy as np\n",
    "import pandas as pd\n",
    "\n",
    "import lightgbm as lgb\n",
    "\n",
    "import gc\n",
    "import pickle\n",
    "from datetime import datetime\n",
    "from scipy.sparse import hstack, csr_matrix\n",
    "from sklearn.model_selection import StratifiedKFold\n",
    "from sklearn.metrics import mean_squared_error\n",
    "\n",
    "root = '/kaggle/competitions/avito-demand-prediction/'\n",
    "\n",
    "def dump_matrix(matrix, name):\n",
    "    pickle.dump(matrix, open(root + 'features/{}.pkl'.format(name), 'wb'), protocol=pickle.HIGHEST_PROTOCOL)\n",
    "def load_matrix(name):\n",
    "    return pickle.load(open(root + 'features/{}.pkl'.format(name), 'rb'))"
   ]
  },
  {
   "cell_type": "code",
   "execution_count": 2,
   "metadata": {},
   "outputs": [],
   "source": [
    "tr_index = load_matrix('tr_index')\n",
    "te_index = load_matrix('te_index')"
   ]
  },
  {
   "cell_type": "code",
   "execution_count": 3,
   "metadata": {},
   "outputs": [],
   "source": [
    "daset_num_cols = load_matrix('daset_num_cols')"
   ]
  },
  {
   "cell_type": "code",
   "execution_count": 4,
   "metadata": {},
   "outputs": [
    {
     "data": {
      "text/html": [
       "<div>\n",
       "<style scoped>\n",
       "    .dataframe tbody tr th:only-of-type {\n",
       "        vertical-align: middle;\n",
       "    }\n",
       "\n",
       "    .dataframe tbody tr th {\n",
       "        vertical-align: top;\n",
       "    }\n",
       "\n",
       "    .dataframe thead th {\n",
       "        text-align: right;\n",
       "    }\n",
       "</style>\n",
       "<table border=\"1\" class=\"dataframe\">\n",
       "  <thead>\n",
       "    <tr style=\"text-align: right;\">\n",
       "      <th></th>\n",
       "      <th>price</th>\n",
       "      <th>image_top_1</th>\n",
       "      <th>item_seq_number</th>\n",
       "      <th>n_missing_features</th>\n",
       "      <th>avg_days_up_user</th>\n",
       "      <th>avg_times_up_user</th>\n",
       "      <th>n_user_items</th>\n",
       "      <th>region_factor</th>\n",
       "      <th>parent_category_name_factor</th>\n",
       "      <th>user_type_factor</th>\n",
       "      <th>...</th>\n",
       "      <th>r_desc_wds</th>\n",
       "      <th>r_desc_dig</th>\n",
       "      <th>r_desc_cap</th>\n",
       "      <th>r_desc_spa</th>\n",
       "      <th>r_desc_pun</th>\n",
       "      <th>r_desc_row</th>\n",
       "      <th>r_desc_emo</th>\n",
       "      <th>r_titl_des</th>\n",
       "      <th>n_char_params</th>\n",
       "      <th>n_text_wds</th>\n",
       "    </tr>\n",
       "    <tr>\n",
       "      <th>item_id</th>\n",
       "      <th></th>\n",
       "      <th></th>\n",
       "      <th></th>\n",
       "      <th></th>\n",
       "      <th></th>\n",
       "      <th></th>\n",
       "      <th></th>\n",
       "      <th></th>\n",
       "      <th></th>\n",
       "      <th></th>\n",
       "      <th></th>\n",
       "      <th></th>\n",
       "      <th></th>\n",
       "      <th></th>\n",
       "      <th></th>\n",
       "      <th></th>\n",
       "      <th></th>\n",
       "      <th></th>\n",
       "      <th></th>\n",
       "      <th></th>\n",
       "      <th></th>\n",
       "    </tr>\n",
       "  </thead>\n",
       "  <tbody>\n",
       "    <tr>\n",
       "      <th>3b896605f03c</th>\n",
       "      <td>6.217606</td>\n",
       "      <td>1008</td>\n",
       "      <td>12</td>\n",
       "      <td>0</td>\n",
       "      <td>6.5</td>\n",
       "      <td>1.5</td>\n",
       "      <td>5.0</td>\n",
       "      <td>99914</td>\n",
       "      <td>914200</td>\n",
       "      <td>1433965</td>\n",
       "      <td>...</td>\n",
       "      <td>0.137931</td>\n",
       "      <td>0.000000</td>\n",
       "      <td>0.000000</td>\n",
       "      <td>0.103448</td>\n",
       "      <td>0.034483</td>\n",
       "      <td>0.000000</td>\n",
       "      <td>0.0</td>\n",
       "      <td>0.586207</td>\n",
       "      <td>48</td>\n",
       "      <td>13</td>\n",
       "    </tr>\n",
       "    <tr>\n",
       "      <th>c81c34d3aac5</th>\n",
       "      <td>4.616121</td>\n",
       "      <td>2909</td>\n",
       "      <td>5</td>\n",
       "      <td>1</td>\n",
       "      <td>15.0</td>\n",
       "      <td>2.0</td>\n",
       "      <td>2.0</td>\n",
       "      <td>58619</td>\n",
       "      <td>231290</td>\n",
       "      <td>1433965</td>\n",
       "      <td>...</td>\n",
       "      <td>0.125000</td>\n",
       "      <td>0.000000</td>\n",
       "      <td>0.000000</td>\n",
       "      <td>0.062500</td>\n",
       "      <td>0.062500</td>\n",
       "      <td>0.000000</td>\n",
       "      <td>0.0</td>\n",
       "      <td>1.187500</td>\n",
       "      <td>36</td>\n",
       "      <td>9</td>\n",
       "    </tr>\n",
       "    <tr>\n",
       "      <th>a8ab6225dd06</th>\n",
       "      <td>7.314887</td>\n",
       "      <td>527</td>\n",
       "      <td>32</td>\n",
       "      <td>1</td>\n",
       "      <td>NaN</td>\n",
       "      <td>NaN</td>\n",
       "      <td>NaN</td>\n",
       "      <td>85264</td>\n",
       "      <td>914200</td>\n",
       "      <td>1433965</td>\n",
       "      <td>...</td>\n",
       "      <td>1.000000</td>\n",
       "      <td>0.000000</td>\n",
       "      <td>0.000000</td>\n",
       "      <td>0.000000</td>\n",
       "      <td>0.000000</td>\n",
       "      <td>0.000000</td>\n",
       "      <td>0.0</td>\n",
       "      <td>22.000000</td>\n",
       "      <td>39</td>\n",
       "      <td>10</td>\n",
       "    </tr>\n",
       "    <tr>\n",
       "      <th>20bf5eea7fb5</th>\n",
       "      <td>5.861786</td>\n",
       "      <td>930</td>\n",
       "      <td>17</td>\n",
       "      <td>3</td>\n",
       "      <td>5.0</td>\n",
       "      <td>1.0</td>\n",
       "      <td>3.0</td>\n",
       "      <td>39932</td>\n",
       "      <td>72446</td>\n",
       "      <td>1433965</td>\n",
       "      <td>...</td>\n",
       "      <td>0.141593</td>\n",
       "      <td>0.053097</td>\n",
       "      <td>0.000000</td>\n",
       "      <td>0.150442</td>\n",
       "      <td>0.026549</td>\n",
       "      <td>0.017699</td>\n",
       "      <td>0.0</td>\n",
       "      <td>0.212389</td>\n",
       "      <td>32</td>\n",
       "      <td>25</td>\n",
       "    </tr>\n",
       "    <tr>\n",
       "      <th>e1cf6b9d5789</th>\n",
       "      <td>7.314887</td>\n",
       "      <td>657</td>\n",
       "      <td>7</td>\n",
       "      <td>1</td>\n",
       "      <td>15.0</td>\n",
       "      <td>2.0</td>\n",
       "      <td>6.0</td>\n",
       "      <td>43712</td>\n",
       "      <td>914200</td>\n",
       "      <td>1433965</td>\n",
       "      <td>...</td>\n",
       "      <td>0.163934</td>\n",
       "      <td>0.098361</td>\n",
       "      <td>0.065574</td>\n",
       "      <td>0.147541</td>\n",
       "      <td>0.049180</td>\n",
       "      <td>0.000000</td>\n",
       "      <td>0.0</td>\n",
       "      <td>0.393443</td>\n",
       "      <td>32</td>\n",
       "      <td>19</td>\n",
       "    </tr>\n",
       "  </tbody>\n",
       "</table>\n",
       "<p>5 rows × 74 columns</p>\n",
       "</div>"
      ],
      "text/plain": [
       "                 price  image_top_1  item_seq_number  n_missing_features  \\\n",
       "item_id                                                                    \n",
       "3b896605f03c  6.217606         1008               12                   0   \n",
       "c81c34d3aac5  4.616121         2909                5                   1   \n",
       "a8ab6225dd06  7.314887          527               32                   1   \n",
       "20bf5eea7fb5  5.861786          930               17                   3   \n",
       "e1cf6b9d5789  7.314887          657                7                   1   \n",
       "\n",
       "              avg_days_up_user  avg_times_up_user  n_user_items  \\\n",
       "item_id                                                           \n",
       "3b896605f03c               6.5                1.5           5.0   \n",
       "c81c34d3aac5              15.0                2.0           2.0   \n",
       "a8ab6225dd06               NaN                NaN           NaN   \n",
       "20bf5eea7fb5               5.0                1.0           3.0   \n",
       "e1cf6b9d5789              15.0                2.0           6.0   \n",
       "\n",
       "              region_factor  parent_category_name_factor  user_type_factor  \\\n",
       "item_id                                                                      \n",
       "3b896605f03c          99914                       914200           1433965   \n",
       "c81c34d3aac5          58619                       231290           1433965   \n",
       "a8ab6225dd06          85264                       914200           1433965   \n",
       "20bf5eea7fb5          39932                        72446           1433965   \n",
       "e1cf6b9d5789          43712                       914200           1433965   \n",
       "\n",
       "                 ...      r_desc_wds  r_desc_dig  r_desc_cap  r_desc_spa  \\\n",
       "item_id          ...                                                       \n",
       "3b896605f03c     ...        0.137931    0.000000    0.000000    0.103448   \n",
       "c81c34d3aac5     ...        0.125000    0.000000    0.000000    0.062500   \n",
       "a8ab6225dd06     ...        1.000000    0.000000    0.000000    0.000000   \n",
       "20bf5eea7fb5     ...        0.141593    0.053097    0.000000    0.150442   \n",
       "e1cf6b9d5789     ...        0.163934    0.098361    0.065574    0.147541   \n",
       "\n",
       "              r_desc_pun  r_desc_row  r_desc_emo  r_titl_des  n_char_params  \\\n",
       "item_id                                                                       \n",
       "3b896605f03c    0.034483    0.000000         0.0    0.586207             48   \n",
       "c81c34d3aac5    0.062500    0.000000         0.0    1.187500             36   \n",
       "a8ab6225dd06    0.000000    0.000000         0.0   22.000000             39   \n",
       "20bf5eea7fb5    0.026549    0.017699         0.0    0.212389             32   \n",
       "e1cf6b9d5789    0.049180    0.000000         0.0    0.393443             32   \n",
       "\n",
       "              n_text_wds  \n",
       "item_id                   \n",
       "3b896605f03c          13  \n",
       "c81c34d3aac5           9  \n",
       "a8ab6225dd06          10  \n",
       "20bf5eea7fb5          25  \n",
       "e1cf6b9d5789          19  \n",
       "\n",
       "[5 rows x 74 columns]"
      ]
     },
     "execution_count": 4,
     "metadata": {},
     "output_type": "execute_result"
    }
   ],
   "source": [
    "daset_num_cols.head()"
   ]
  },
  {
   "cell_type": "code",
   "execution_count": 5,
   "metadata": {},
   "outputs": [
    {
     "data": {
      "text/plain": [
       "34"
      ]
     },
     "execution_count": 5,
     "metadata": {},
     "output_type": "execute_result"
    }
   ],
   "source": [
    "tr_c2v_matrix = load_matrix('tr_c2v_matrix')\n",
    "tr_param_vec_matrix = load_matrix('tr_param_vec_matrix')\n",
    "tr_txt_vec_matrix = load_matrix('tr_txt_vec_matrix')\n",
    "tr_list = [daset_num_cols.loc[tr_index].values, tr_c2v_matrix, tr_param_vec_matrix, tr_txt_vec_matrix]\n",
    "X = hstack(tr_list).tocsr()\n",
    "dump_matrix(X, 'X_20180519')\n",
    "del tr_list, tr_c2v_matrix,tr_param_vec_matrix,tr_txt_vec_matrix\n",
    "gc.collect()"
   ]
  },
  {
   "cell_type": "code",
   "execution_count": 8,
   "metadata": {},
   "outputs": [
    {
     "data": {
      "text/plain": [
       "93"
      ]
     },
     "execution_count": 8,
     "metadata": {},
     "output_type": "execute_result"
    }
   ],
   "source": [
    "te_c2v_matrix = load_matrix('te_c2v_matrix')\n",
    "te_param_vec_matrix = load_matrix('te_param_vec_matrix')\n",
    "te_txt_vec_matrix = load_matrix('te_txt_vec_matrix')\n",
    "te_list = [daset_num_cols.loc[te_index].values, te_c2v_matrix, te_param_vec_matrix, te_txt_vec_matrix]\n",
    "X_te = hstack(te_list).tocsr()\n",
    "dump_matrix(X_te, 'X_20180519_te')\n",
    "del te_list, te_c2v_matrix, te_param_vec_matrix, te_txt_vec_matrix\n",
    "gc.collect()"
   ]
  },
  {
   "cell_type": "code",
   "execution_count": 10,
   "metadata": {},
   "outputs": [],
   "source": [
    "y = load_matrix('y')"
   ]
  },
  {
   "cell_type": "code",
   "execution_count": 11,
   "metadata": {},
   "outputs": [
    {
     "name": "stdout",
     "output_type": "stream",
     "text": [
      "dataset shape: (1503424, 60084) (508438, 60084) 1503424\n",
      "feature names:\n",
      "price\n",
      "image_top_1\n",
      "item_seq_number\n",
      "n_missing_features\n",
      "avg_days_up_user\n",
      "avg_times_up_user\n",
      "n_user_items\n",
      "region_factor\n",
      "parent_category_name_factor\n",
      "user_type_factor\n",
      "day_of_week_factor\n",
      "n_region_target_avg\n",
      "n_region_price_avg\n",
      "n_image_top_1_target_avg\n",
      "n_image_top_1_price_avg\n",
      "n_category_name_target_avg\n",
      "n_category_name_price_avg\n",
      "n_user_type_target_avg\n",
      "n_user_type_price_avg\n",
      "n_parent_category_name_target_avg\n"
     ]
    }
   ],
   "source": [
    "feature_names = load_matrix('feature_names')\n",
    "dump_matrix(feature_names, 'lgb_feature_20180519')\n",
    "print('dataset shape:', X.shape, X_te.shape, len(y))\n",
    "print('feature names:\\n' + '\\n'.join(feature_names[:20]))"
   ]
  },
  {
   "cell_type": "code",
   "execution_count": 12,
   "metadata": {},
   "outputs": [
    {
     "data": {
      "text/plain": [
       "21"
      ]
     },
     "execution_count": 12,
     "metadata": {},
     "output_type": "execute_result"
    }
   ],
   "source": [
    "del daset_num_cols\n",
    "gc.collect()"
   ]
  },
  {
   "cell_type": "code",
   "execution_count": 13,
   "metadata": {},
   "outputs": [
    {
     "data": {
      "text/plain": [
       "0"
      ]
     },
     "execution_count": 13,
     "metadata": {},
     "output_type": "execute_result"
    }
   ],
   "source": [
    "del X, X_te, y, feature_names\n",
    "gc.collect()"
   ]
  }
 ],
 "metadata": {
  "kernelspec": {
   "display_name": "Environment (conda_pytorch_p36)",
   "language": "python",
   "name": "conda_pytorch_p36"
  },
  "language_info": {
   "codemirror_mode": {
    "name": "ipython",
    "version": 3
   },
   "file_extension": ".py",
   "mimetype": "text/x-python",
   "name": "python",
   "nbconvert_exporter": "python",
   "pygments_lexer": "ipython3",
   "version": "3.6.5"
  }
 },
 "nbformat": 4,
 "nbformat_minor": 2
}
